{
 "cells": [
  {
   "cell_type": "code",
   "execution_count": 2,
   "metadata": {},
   "outputs": [],
   "source": [
    "class Carro:\n",
    "    def __init__(self, marca: str, modelo: str, combustible: str,max_km: int, hp: int) -> None:\n",
    "        self.marca: str=marca\n",
    "        self.modelo: str=modelo\n",
    "        self.combustible: str=combustible\n",
    "        self.max_km: int=max_km\n",
    "        self.hp: int=hp\n",
    "\n",
    "    def __str__(self) -> str:\n",
    "        return f\"Marca: {self.marca}, Modelo: {self.modelo}, Tipo de Combustible: {self.combustible}, Velocidad Maxima: {self.max_km}km/h, Caballos de fuerza: {self.hp}HP\""
   ]
  },
  {
   "cell_type": "code",
   "execution_count": 3,
   "metadata": {},
   "outputs": [
    {
     "name": "stdout",
     "output_type": "stream",
     "text": [
      "Marca: Toyota, Modelo: Corolla, Tipo de Combustible: Gasolina, Velocidad Maxima: 180km/h, Caballos de fuerza: 132HP\n",
      "Marca: Ford, Modelo: Mustang, Tipo de Combustible: Gasolina, Velocidad Maxima: 250km/h, Caballos de fuerza: 450HP\n",
      "Marca: Nissan, Modelo: Leaf, Tipo de Combustible: Electrico, Velocidad Maxima: 180km/h, Caballos de fuerza: 149HP\n"
     ]
    }
   ],
   "source": [
    "carro1 = Carro(marca=\"Toyota\", modelo=\"Corolla\", combustible=\"Gasolina\", max_km=180, hp=132)\n",
    "carro2 = Carro(marca=\"Ford\", modelo=\"Mustang\", combustible=\"Gasolina\", max_km=250, hp=450)\n",
    "carro3 = Carro(marca=\"Nissan\", modelo=\"Leaf\", combustible=\"Electrico\", max_km=180, hp=149)\n",
    "print(carro1)\n",
    "print(carro2)\n",
    "print(carro3)"
   ]
  }
 ],
 "metadata": {
  "kernelspec": {
   "display_name": "Python 3 (ipykernel)",
   "language": "python",
   "name": "python3"
  },
  "language_info": {
   "codemirror_mode": {
    "name": "ipython",
    "version": 3
   },
   "file_extension": ".py",
   "mimetype": "text/x-python",
   "name": "python",
   "nbconvert_exporter": "python",
   "pygments_lexer": "ipython3",
   "version": "3.12.1"
  }
 },
 "nbformat": 4,
 "nbformat_minor": 2
}
