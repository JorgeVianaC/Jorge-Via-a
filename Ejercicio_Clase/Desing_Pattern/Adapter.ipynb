{
 "cells": [
  {
   "cell_type": "code",
   "execution_count": 39,
   "metadata": {},
   "outputs": [],
   "source": [
    "# Interfaz esperada (Target) para calcular la distancia en kilómetros\n",
    "class CalcularKilometros:\n",
    "    def calcular_distancia(self, origen, destino):\n",
    "        pass\n",
    "\n",
    "    # Clase que calcula la distancia en cuadras\n",
    "class CalcularCuadras:\n",
    "    def calcular_cuadras(self, origen, destino):\n",
    "        return abs(origen - destino)\n",
    "\n",
    "    # Adapter que convierte cuadras a kilómetros\n",
    "class Cuadras_a_km(CalcularKilometros):\n",
    "    def __init__(self, calcularcuadras: CalcularCuadras):\n",
    "        self.calcularcuadras = calcularcuadras\n",
    "\n",
    "    def calcular_distancia(self, origen, destino):\n",
    "        distancia_cuadras = self.calcularcuadras.calcular_cuadras(origen, destino)\n",
    "        distancia_km = distancia_cuadras / 10\n",
    "        return distancia_km\n",
    "\n",
    "    # Función para calcular el costo del domicilio basado en la distancia en kilómetros\n",
    "def calculate_cost(distancia_km):\n",
    "    if 1 <= distancia_km <= 5:\n",
    "        return 5000\n",
    "    elif 5.1 <= distancia_km <= 10:\n",
    "        return 7500\n",
    "    elif distancia_km > 10:\n",
    "        return 10000\n",
    "    else:\n",
    "        return 3000\n",
    "\n",
    "    # Integración del Adapter con el cálculo de costo\n",
    "def calculate_delivery_cost(origen, destino):\n",
    "    calcularcuadras = CalcularCuadras()\n",
    "    adapter = Cuadras_a_km(calcularcuadras)\n",
    "    distancia_km = adapter.calcular_distancia(origen, destino)\n",
    "    cost = calculate_cost(distancia_km)\n",
    "    print(f\"Distancia: {distancia_km} km, Costo: ${cost}\")\n"
   ]
  },
  {
   "cell_type": "code",
   "execution_count": 40,
   "metadata": {},
   "outputs": [
    {
     "name": "stdout",
     "output_type": "stream",
     "text": [
      "Distancia: 2.4 km, Costo: $5000\n"
     ]
    }
   ],
   "source": [
    "calculate_delivery_cost(56, 80)  # Debe calcular y devolver la distancia en kilómetros y el costo"
   ]
  }
 ],
 "metadata": {
  "kernelspec": {
   "display_name": "Python 3",
   "language": "python",
   "name": "python3"
  },
  "language_info": {
   "codemirror_mode": {
    "name": "ipython",
    "version": 3
   },
   "file_extension": ".py",
   "mimetype": "text/x-python",
   "name": "python",
   "nbconvert_exporter": "python",
   "pygments_lexer": "ipython3",
   "version": "3.12.0"
  }
 },
 "nbformat": 4,
 "nbformat_minor": 2
}
