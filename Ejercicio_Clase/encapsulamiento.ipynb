{
 "cells": [
  {
   "cell_type": "code",
   "execution_count": 15,
   "metadata": {},
   "outputs": [],
   "source": [
    "class Jugador:\n",
    "    def __init__(self, nombre: str, salud: int = 100):\n",
    "        self.nombre = nombre\n",
    "        self.__salud = salud\n",
    "\n",
    "    def recibir_dano(self, dano):\n",
    "        if dano > 0:\n",
    "            self.__salud -= dano\n",
    "            self.__salud = max(0, self.__salud)\n",
    "            print(f\"{self.nombre} ha recibido {dano} de daño. Salud: {self.__salud}.\")\n",
    "\n",
    "    def obtener_salud(self):\n",
    "        return self.__salud\n"
   ]
  },
  {
   "cell_type": "code",
   "execution_count": 16,
   "metadata": {},
   "outputs": [
    {
     "name": "stdout",
     "output_type": "stream",
     "text": [
      "Gorke ha recibido 99 de daño. Salud: 1.\n",
      "Salud actual: 1\n"
     ]
    }
   ],
   "source": [
    "jugador = Jugador(\"Gorke\")\n",
    "jugador.recibir_dano(99)\n",
    "print(\"Salud actual:\", jugador.obtener_salud())"
   ]
  }
 ],
 "metadata": {
  "kernelspec": {
   "display_name": "Python 3 (ipykernel)",
   "language": "python",
   "name": "python3"
  },
  "language_info": {
   "codemirror_mode": {
    "name": "ipython",
    "version": 3
   },
   "file_extension": ".py",
   "mimetype": "text/x-python",
   "name": "python",
   "nbconvert_exporter": "python",
   "pygments_lexer": "ipython3",
   "version": "3.12.1"
  }
 },
 "nbformat": 4,
 "nbformat_minor": 2
}
