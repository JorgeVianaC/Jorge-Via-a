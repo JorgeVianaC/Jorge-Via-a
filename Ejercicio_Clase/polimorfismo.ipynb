{
 "cells": [
  {
   "cell_type": "code",
   "execution_count": 18,
   "metadata": {},
   "outputs": [],
   "source": [
    "from abc import ABC, abstractmethod\n",
    "\n",
    "class Personaje(ABC):\n",
    "    def __init__(self, elemento: str, nivel: int, vida: int, pa: int, pm: int) -> None:\n",
    "        self.elemento: str = elemento\n",
    "        self.nivel: int = nivel\n",
    "        self.vida: int = vida\n",
    "        self.pa: int = pa\n",
    "        self.pm: int = pm\n",
    "\n",
    "    def inform(self) -> str:\n",
    "        return f\"Elemento {self.elemento}, nivel {self.nivel}, P.Vida {self.vida}, P.Accion {self.pa}, P.Movimiento {self.pm}\"\n",
    "\n",
    "    def mover(self, moverse: int) -> None:\n",
    "        self.pm -= moverse\n",
    "\n",
    "    @abstractmethod\n",
    "    def actuar(self) -> str:\n",
    "        pass\n",
    "\n",
    "class Ocra(Personaje):\n",
    "    def actuar(self, accion: int = 4) -> str:\n",
    "        self.pa -= accion\n",
    "        return \"has atacado correctamente\"\n",
    "\n",
    "class Yopuka(Personaje):\n",
    "    def actuar(self, accion: int = 7) -> str:\n",
    "        self.pa -= accion\n",
    "        return \"has atacado correctamente\"\n",
    "\n",
    "class Aniripsa(Personaje):\n",
    "    def actuar(self, accion: int = 6) -> str:\n",
    "        self.pa -= accion\n",
    "        return \"has atacado correctamente\"\n"
   ]
  },
  {
   "cell_type": "code",
   "execution_count": 17,
   "metadata": {},
   "outputs": [],
   "source": [
    "def atacar(personaje: Personaje) -> None:\n",
    "    print(personaje.actuar())\n",
    "    print(f\"{personaje.inform()}\")"
   ]
  },
  {
   "cell_type": "code",
   "execution_count": 19,
   "metadata": {},
   "outputs": [
    {
     "name": "stdout",
     "output_type": "stream",
     "text": [
      "has atacado correctamente\n",
      "Elemento Fuego, nivel 200, P.Vida 4300, P.Accion 7, P.Movimiento 6\n",
      "has atacado correctamente\n",
      "Elemento Tierra, nivel 200, P.Vida 4800, P.Accion 5, P.Movimiento 5\n",
      "has atacado correctamente\n",
      "Elemento Fuego, nivel 200, P.Vida 4500, P.Accion 5, P.Movimiento 6\n"
     ]
    }
   ],
   "source": [
    "pj1: Ocra = Ocra(elemento=\"Fuego\", nivel=200, vida=4300, pa=11, pm=6)\n",
    "pj2: Yopuka = Yopuka(elemento=\"Tierra\", nivel=200, vida=4800, pa=12, pm=5)\n",
    "pj3: Aniripsa = Aniripsa(elemento=\"Fuego\", nivel=200, vida=4500, pa=11, pm=6)\n",
    "#personaje: list[Personaje] = [pj1, pj2, pj3]\n",
    "\n",
    "\n",
    "for personaje in [pj1, pj2, pj3]:\n",
    "    atacar(personaje=personaje)\n",
    "\n",
    "#for p in personaje:\n",
    "#    print(p.inform())"
   ]
  }
 ],
 "metadata": {
  "kernelspec": {
   "display_name": "Python 3 (ipykernel)",
   "language": "python",
   "name": "python3"
  },
  "language_info": {
   "codemirror_mode": {
    "name": "ipython",
    "version": 3
   },
   "file_extension": ".py",
   "mimetype": "text/x-python",
   "name": "python",
   "nbconvert_exporter": "python",
   "pygments_lexer": "ipython3",
   "version": "3.12.1"
  }
 },
 "nbformat": 4,
 "nbformat_minor": 2
}
