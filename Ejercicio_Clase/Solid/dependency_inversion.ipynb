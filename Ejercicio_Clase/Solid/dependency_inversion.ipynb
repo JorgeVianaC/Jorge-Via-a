{
 "cells": [
  {
   "cell_type": "code",
   "execution_count": 33,
   "metadata": {},
   "outputs": [],
   "source": [
    "class PagoEfectivo:\n",
    "    def procesar_pago(self, cantidad: float) -> None:\n",
    "        print(f\"Pagó {cantidad} en efectivo\")\n",
    "\n",
    "class PagoNequi:\n",
    "    def procesar_pago(self, cantidad: float) -> None:\n",
    "        print(f\"Pagó {cantidad} a través de Nequi\")\n",
    "\n",
    "class Compra:\n",
    "    def __init__(self):\n",
    "        self.p_efectivo = PagoEfectivo()\n",
    "        self.p_nequi = PagoNequi()\n",
    "\n",
    "    def compra_efectivo(self, cantidad: float) -> None:\n",
    "        self.p_efectivo.procesar_pago(cantidad)\n",
    "\n",
    "    def compra_nequi(self, cantidad: float) -> None:\n",
    "        self.p_nequi.procesar_pago(cantidad)"
   ]
  },
  {
   "cell_type": "code",
   "execution_count": 34,
   "metadata": {},
   "outputs": [
    {
     "name": "stdout",
     "output_type": "stream",
     "text": [
      "Pagó 5500 en efectivo\n"
     ]
    }
   ],
   "source": [
    "compra = Compra()\n",
    "compra.compra_efectivo(5500)\n"
   ]
  },
  {
   "cell_type": "code",
   "execution_count": 43,
   "metadata": {},
   "outputs": [],
   "source": [
    "from abc import ABC, abstractmethod\n",
    "class ServicioPago(ABC):\n",
    "    @abstractmethod\n",
    "    def procesar_pago(self, cantidad: float) -> None:\n",
    "        pass\n",
    "\n",
    "class PagoEfectivo(ServicioPago):\n",
    "    def procesar_pago(self, cantidad: float) -> None:\n",
    "        print(f\"Procesando pago de {cantidad} en efectivo\")\n",
    "\n",
    "class PagoNequi(ServicioPago):\n",
    "    def procesar_pago(self, cantidad: float) -> None:\n",
    "        print(f\"Procesando pago de {cantidad} a través de Nequi\")\n",
    "\n",
    "class Compra:\n",
    "    def __init__(self, servicio_pago: ServicioPago):\n",
    "        self.servicio_pago = servicio_pago\n",
    "\n",
    "    def procesar_compra(self, cantidad: float) -> None:\n",
    "        self.servicio_pago.procesar_pago(cantidad)"
   ]
  },
  {
   "cell_type": "code",
   "execution_count": 49,
   "metadata": {},
   "outputs": [
    {
     "name": "stdout",
     "output_type": "stream",
     "text": [
      "Procesando pago de 5000 en efectivo\n"
     ]
    }
   ],
   "source": [
    "compra = PagoEfectivo()\n",
    "pago = Compra(compra)\n",
    "pago.procesar_compra(5000)"
   ]
  }
 ],
 "metadata": {
  "kernelspec": {
   "display_name": "Python 3",
   "language": "python",
   "name": "python3"
  },
  "language_info": {
   "codemirror_mode": {
    "name": "ipython",
    "version": 3
   },
   "file_extension": ".py",
   "mimetype": "text/x-python",
   "name": "python",
   "nbconvert_exporter": "python",
   "pygments_lexer": "ipython3",
   "version": "3.12.1"
  }
 },
 "nbformat": 4,
 "nbformat_minor": 2
}
