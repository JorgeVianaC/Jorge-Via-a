{
 "cells": [
  {
   "cell_type": "code",
   "execution_count": 30,
   "metadata": {},
   "outputs": [],
   "source": [
    "class Compra:\n",
    "    def __init__(self):\n",
    "        self.p_efectivo = PagoEfectivo()\n",
    "        self.p_nequi = PagoNequi()\n",
    "\n",
    "    def compra_efectivo(self, cantidad: float) -> None:\n",
    "        self.p_efectivo.procesar_pago(cantidad)\n",
    "\n",
    "    def compra_nequi(self, cantidad: float) -> None:\n",
    "        self.p_nequi.procesar_pago(cantidad)\n",
    "\n",
    "class PagoEfectivo:\n",
    "    def procesar_pago(self, cantidad: float) -> None:\n",
    "        print(f\"Pagó {cantidad} en efectivo\")\n",
    "\n",
    "class PagoNequi:\n",
    "    def procesar_pago(self, cantidad: float) -> None:\n",
    "        print(f\"Pagó {cantidad} a través de Nequi\")\n"
   ]
  },
  {
   "cell_type": "code",
   "execution_count": 32,
   "metadata": {},
   "outputs": [
    {
     "name": "stdout",
     "output_type": "stream",
     "text": [
      "Pagó 5500 en efectivo\n"
     ]
    }
   ],
   "source": [
    "compra = Compra()\n",
    "compra.compra_efectivo(5500)\n"
   ]
  },
  {
   "cell_type": "code",
   "execution_count": null,
   "metadata": {},
   "outputs": [],
   "source": []
  }
 ],
 "metadata": {
  "kernelspec": {
   "display_name": "Python 3",
   "language": "python",
   "name": "python3"
  },
  "language_info": {
   "codemirror_mode": {
    "name": "ipython",
    "version": 3
   },
   "file_extension": ".py",
   "mimetype": "text/x-python",
   "name": "python",
   "nbconvert_exporter": "python",
   "pygments_lexer": "ipython3",
   "version": "3.12.1"
  }
 },
 "nbformat": 4,
 "nbformat_minor": 2
}
