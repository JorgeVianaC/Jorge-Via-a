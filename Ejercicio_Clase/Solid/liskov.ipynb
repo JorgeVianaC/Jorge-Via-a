{
 "cells": [
  {
   "cell_type": "code",
   "execution_count": 40,
   "metadata": {},
   "outputs": [],
   "source": [
    "class Vehiculo:\n",
    "    def __init__(self, marca: str, color: str) -> None:\n",
    "        self.marca: str = marca\n",
    "        self.color: str = color\n",
    "\n",
    "    def inform(self) -> str:\n",
    "        return f\"el {self.marca} de color {self.color} está cargando\"\n",
    "\n",
    "class Gasolina(Vehiculo):\n",
    "    def repostar(self, combustible: str) -> str:\n",
    "        self.combustible: str = combustible\n",
    "\n",
    "        if self.combustible == \"gasolina\":\n",
    "            return super().inform()+\" gasolina\"\n",
    "        else:\n",
    "            raise Exception(\"El auto no puede repostar este tipo de combustible\")\n",
    "\n",
    "class Diesel(Vehiculo):\n",
    "    def repostar(self, combustible: str) -> str:\n",
    "        self.combustible: str = combustible\n",
    "        if self.combustible == \"diesel\":\n",
    "            return super().inform()+\" diesel\"\n",
    "        else:\n",
    "            raise Exception(\"El auto no puede repostar este tipo de combustible\")"
   ]
  },
  {
   "cell_type": "code",
   "execution_count": 41,
   "metadata": {},
   "outputs": [
    {
     "name": "stdout",
     "output_type": "stream",
     "text": [
      "el Ferrari de color Rojo está cargando gasolina\n",
      "el Ford de color Blanco está cargando diesel\n"
     ]
    }
   ],
   "source": [
    "carroG = Gasolina(\"Ferrari\", \"Rojo\")\n",
    "carroD = Diesel(\"Ford\", \"Blanco\")\n",
    "\n",
    "print(carroG.repostar(\"gasolina\"))\n",
    "print(carroD.repostar(\"diesel\"))"
   ]
  },
  {
   "cell_type": "code",
   "execution_count": 50,
   "metadata": {},
   "outputs": [],
   "source": [
    "from abc import ABC, abstractmethod\n",
    "class Vehiculo(ABC):\n",
    "    def __init__(self, marca: str, color: str, combustible: str) -> None:\n",
    "        self.marca: str = marca\n",
    "        self.color: str = color\n",
    "        self.combustible: str = combustible\n",
    "\n",
    "    @abstractmethod\n",
    "    def repostar(self) -> str:\n",
    "        pass\n",
    "\n",
    "    def inform(self) -> str:\n",
    "        return f\"el {self.marca} de color {self.color} está cargando\"\n",
    "\n",
    "class Gasolina(Vehiculo):\n",
    "    def repostar(self) -> str:\n",
    "\n",
    "        if self.combustible == \"gasolina\":\n",
    "            return super().inform()+\" gasolina\"\n",
    "        else:\n",
    "            raise Exception(\"El auto no puede repostar este combustible\")\n",
    "\n",
    "class Diesel(Vehiculo):\n",
    "    def repostar(self) -> str:\n",
    "\n",
    "        if self.combustible == \"diesel\":\n",
    "            return super().inform()+\" diesel\"\n",
    "        else:\n",
    "            raise Exception(\"El auto no puede repostar este combustible\")"
   ]
  },
  {
   "cell_type": "code",
   "execution_count": 53,
   "metadata": {},
   "outputs": [
    {
     "name": "stdout",
     "output_type": "stream",
     "text": [
      "el Ferrari de color Rojo está cargando gasolina\n",
      "el Ford de color Blanco está cargando diesel\n"
     ]
    }
   ],
   "source": [
    "carroG = Gasolina(\"Ferrari\", \"Rojo\", \"gasolina\")\n",
    "carroD = Diesel(\"Ford\", \"Blanco\", \"diesel\")\n",
    "\n",
    "print(carroG.repostar())\n",
    "print(carroD.repostar())"
   ]
  }
 ],
 "metadata": {
  "kernelspec": {
   "display_name": "Python 3",
   "language": "python",
   "name": "python3"
  },
  "language_info": {
   "codemirror_mode": {
    "name": "ipython",
    "version": 3
   },
   "file_extension": ".py",
   "mimetype": "text/x-python",
   "name": "python",
   "nbconvert_exporter": "python",
   "pygments_lexer": "ipython3",
   "version": "3.12.1"
  }
 },
 "nbformat": 4,
 "nbformat_minor": 2
}
