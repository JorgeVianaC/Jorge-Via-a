{
 "cells": [
  {
   "cell_type": "code",
   "execution_count": 27,
   "metadata": {},
   "outputs": [],
   "source": [
    "class Vehiculo:\n",
    "    def __init__(self, marca: str, color: str) -> None:\n",
    "        self.marca: str = marca\n",
    "        self.color: str = color\n",
    "\n",
    "    def inform(self) -> str:\n",
    "        return f\"{self.marca} de color {self.color} y está cargando\"\n",
    "\n",
    "class Carro(Vehiculo):\n",
    "    def repostar(self, combustible: str) -> str:\n",
    "        self.combustible: str = combustible\n",
    "\n",
    "        if self.combustible == \"gasolina\":\n",
    "            return \"el carro es un: \"+super().inform()+\" gasolina\"\n",
    "        else:\n",
    "            raise Exception(\"El auto no puede repostar este tipo de combustible\")\n",
    "\n",
    "class Moto(Vehiculo):\n",
    "    def repostar(self, combustible: str) -> str:\n",
    "        self.combustible: str = combustible\n",
    "\n",
    "        if self.combustible == \"gasolina\":\n",
    "            return \"la moto es una: \"+super().inform()+\" gasolina\"\n",
    "        else:\n",
    "            raise Exception(\"El auto no puede repostar este tipo de combustible\")"
   ]
  },
  {
   "cell_type": "code",
   "execution_count": 28,
   "metadata": {},
   "outputs": [
    {
     "name": "stdout",
     "output_type": "stream",
     "text": [
      "la moto es una: Ferrari de color Rojo y está cargando gasolina\n",
      "el carro es un: Ford de color Blanco y está cargando gasolina\n"
     ]
    }
   ],
   "source": [
    "moto = Moto(\"Ferrari\", \"Rojo\")\n",
    "carro = Carro(\"Ford\", \"Blanco\")\n",
    "\n",
    "print(moto.repostar(\"gasolina\"))\n",
    "print(carro.repostar(\"gasolina\"))"
   ]
  },
  {
   "cell_type": "code",
   "execution_count": 33,
   "metadata": {},
   "outputs": [],
   "source": [
    "from abc import ABC, abstractmethod\n",
    "class Vehiculo(ABC):\n",
    "    def __init__(self, marca: str, color: str, combustible: str) -> None:\n",
    "        self.marca: str = marca\n",
    "        self.color: str = color\n",
    "        self.combustible: str = combustible\n",
    "\n",
    "    @abstractmethod\n",
    "    def repostar(self) -> str:\n",
    "        pass\n",
    "\n",
    "    def inform(self) -> str:\n",
    "        return f\"{self.marca} de color {self.color} y está cargando\"\n",
    "\n",
    "class Carro(Vehiculo):\n",
    "    def repostar(self) -> str:\n",
    "\n",
    "        if self.combustible == \"gasolina\":\n",
    "            return \"El carro es un: \"+super().inform()+\" gasolina\"\n",
    "        else:\n",
    "            raise Exception(\"El auto no puede repostar este tipo de combustible\")\n",
    "\n",
    "class Moto(Vehiculo):\n",
    "    def repostar(self) -> str:\n",
    "\n",
    "        if self.combustible == \"gasolina\":\n",
    "            return \"La moto es una: \"+super().inform()+\" gasolina\"\n",
    "        else:\n",
    "            raise Exception(\"La moto no puede repostar este tipo de combustible\")\n",
    "        "
   ]
  },
  {
   "cell_type": "code",
   "execution_count": 36,
   "metadata": {},
   "outputs": [
    {
     "name": "stdout",
     "output_type": "stream",
     "text": [
      "El carro es un: Ford de color Blanco y está cargando gasolina\n",
      "La moto es una: Ferrari de color Rojo y está cargando gasolina\n"
     ]
    }
   ],
   "source": [
    "moto = Moto(\"Ferrari\", \"Rojo\", \"gasolina\")\n",
    "carro = Carro(\"Ford\", \"Blanco\", \"gasolina\")\n",
    "\n",
    "print(carro.repostar())\n",
    "print(moto.repostar())"
   ]
  }
 ],
 "metadata": {
  "kernelspec": {
   "display_name": "Python 3",
   "language": "python",
   "name": "python3"
  },
  "language_info": {
   "codemirror_mode": {
    "name": "ipython",
    "version": 3
   },
   "file_extension": ".py",
   "mimetype": "text/x-python",
   "name": "python",
   "nbconvert_exporter": "python",
   "pygments_lexer": "ipython3",
   "version": "3.12.1"
  }
 },
 "nbformat": 4,
 "nbformat_minor": 2
}
