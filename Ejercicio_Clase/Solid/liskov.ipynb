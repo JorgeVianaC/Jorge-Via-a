{
 "cells": [
  {
   "cell_type": "code",
   "execution_count": 16,
   "metadata": {},
   "outputs": [],
   "source": [
    "class Vehiculo:\n",
    "    def arrancar(self) -> str:\n",
    "        return \"El motor está encendido\"\n",
    "\n",
    "class Auto(Vehiculo):\n",
    "    def arrancar(self) -> str:\n",
    "        return super().arrancar()\n",
    "\n",
    "class Bicicleta(Vehiculo):\n",
    "    def arrancar(self) -> str:\n",
    "        raise Exception(\"Las bicicletas no tienen motor\")"
   ]
  },
  {
   "cell_type": "code",
   "execution_count": 17,
   "metadata": {},
   "outputs": [
    {
     "name": "stdout",
     "output_type": "stream",
     "text": [
      "El motor está encendido\n"
     ]
    },
    {
     "ename": "Exception",
     "evalue": "Las bicicletas no tienen motor",
     "output_type": "error",
     "traceback": [
      "\u001b[0;31m---------------------------------------------------------------------------\u001b[0m",
      "\u001b[0;31mException\u001b[0m                                 Traceback (most recent call last)",
      "Cell \u001b[0;32mIn[17], line 4\u001b[0m\n\u001b[1;32m      2\u001b[0m bicicleta \u001b[38;5;241m=\u001b[39m Bicicleta()\n\u001b[1;32m      3\u001b[0m \u001b[38;5;28mprint\u001b[39m(auto\u001b[38;5;241m.\u001b[39marrancar())\n\u001b[0;32m----> 4\u001b[0m \u001b[38;5;28mprint\u001b[39m(\u001b[43mbicicleta\u001b[49m\u001b[38;5;241;43m.\u001b[39;49m\u001b[43marrancar\u001b[49m\u001b[43m(\u001b[49m\u001b[43m)\u001b[49m)\n",
      "Cell \u001b[0;32mIn[16], line 11\u001b[0m, in \u001b[0;36mBicicleta.arrancar\u001b[0;34m(self)\u001b[0m\n\u001b[1;32m     10\u001b[0m \u001b[38;5;28;01mdef\u001b[39;00m \u001b[38;5;21marrancar\u001b[39m(\u001b[38;5;28mself\u001b[39m) \u001b[38;5;241m-\u001b[39m\u001b[38;5;241m>\u001b[39m \u001b[38;5;28mstr\u001b[39m:\n\u001b[0;32m---> 11\u001b[0m     \u001b[38;5;28;01mraise\u001b[39;00m \u001b[38;5;167;01mException\u001b[39;00m(\u001b[38;5;124m\"\u001b[39m\u001b[38;5;124mLas bicicletas no tienen motor\u001b[39m\u001b[38;5;124m\"\u001b[39m)\n",
      "\u001b[0;31mException\u001b[0m: Las bicicletas no tienen motor"
     ]
    }
   ],
   "source": [
    "auto = Auto()\n",
    "bicicleta = Bicicleta()\n",
    "print(auto.arrancar())\n",
    "print(bicicleta.arrancar())"
   ]
  },
  {
   "cell_type": "code",
   "execution_count": 18,
   "metadata": {},
   "outputs": [],
   "source": [
    "from abc import ABC, abstractmethod\n",
    "\n",
    "class Vehiculo(ABC):\n",
    "    @abstractmethod\n",
    "    def moverse(self) -> str:\n",
    "        pass\n",
    "\n",
    "class Auto(Vehiculo):\n",
    "    def moverse(self) -> str:\n",
    "        return \"El coche está en movimiento con su motor encendido\"\n",
    "\n",
    "class Bicicleta(Vehiculo):\n",
    "    def moverse(self) -> str:\n",
    "        return \"La bicicleta está en movimiento pedaleando\""
   ]
  },
  {
   "cell_type": "code",
   "execution_count": 19,
   "metadata": {},
   "outputs": [
    {
     "name": "stdout",
     "output_type": "stream",
     "text": [
      "El coche está en movimiento con su motor encendido\n",
      "La bicicleta está en movimiento pedaleando\n"
     ]
    }
   ],
   "source": [
    "auto = Auto()\n",
    "bicicleta = Bicicleta()\n",
    "print(auto.moverse())\n",
    "print(bicicleta.moverse())"
   ]
  }
 ],
 "metadata": {
  "kernelspec": {
   "display_name": "Python 3",
   "language": "python",
   "name": "python3"
  },
  "language_info": {
   "codemirror_mode": {
    "name": "ipython",
    "version": 3
   },
   "file_extension": ".py",
   "mimetype": "text/x-python",
   "name": "python",
   "nbconvert_exporter": "python",
   "pygments_lexer": "ipython3",
   "version": "3.12.1"
  }
 },
 "nbformat": 4,
 "nbformat_minor": 2
}
