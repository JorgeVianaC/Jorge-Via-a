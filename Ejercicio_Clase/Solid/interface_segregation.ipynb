{
 "cells": [
  {
   "cell_type": "code",
   "execution_count": 1,
   "metadata": {},
   "outputs": [],
   "source": [
    "class Animal:\n",
    "\n",
    "    def correr(self) -> str:\n",
    "        pass\n",
    "    def volar(self) -> str:\n",
    "        pass\n",
    "    def nadar(self) -> str:\n",
    "        pass\n",
    "\n",
    "class Mamifero(Animal):\n",
    "    def correr(self) -> str:\n",
    "        return \"El animal está corriendo\"\n",
    "    def volar(self) -> str:\n",
    "        pass\n",
    "    def nadar(self) -> str:\n",
    "        return \"El animal está nadando\"\n",
    "\n",
    "class Pez(Animal):\n",
    "    def correr(self) -> str:\n",
    "        pass\n",
    "    def volar(self) -> str:\n",
    "        pass\n",
    "    def nadar(self) -> str:\n",
    "        return \"El animal está nadando\"\n",
    "\n",
    "class Ave(Animal):\n",
    "    def correr(self) -> str:\n",
    "        pass\n",
    "    def volar(self) -> str:\n",
    "        return \"El animal está volando\"\n",
    "    def nadar(self) -> str:\n",
    "        pass"
   ]
  },
  {
   "cell_type": "code",
   "execution_count": 8,
   "metadata": {},
   "outputs": [
    {
     "name": "stdout",
     "output_type": "stream",
     "text": [
      "El animal está corriendo\n",
      "El animal está nadando\n",
      "El animal está volando\n"
     ]
    }
   ],
   "source": [
    "perro = Mamifero()\n",
    "atun = Pez()\n",
    "alcon = Ave()\n",
    "print(perro.correr())\n",
    "print(atun.nadar())\n",
    "print(alcon.volar())"
   ]
  },
  {
   "cell_type": "code",
   "execution_count": 12,
   "metadata": {},
   "outputs": [],
   "source": [
    "from abc import ABC, abstractmethod\n",
    "class Corre(ABC):\n",
    "    @abstractmethod\n",
    "    def correr(self) -> str:\n",
    "        pass\n",
    "class Vuela(ABC):\n",
    "    @abstractmethod\n",
    "    def volar(self) -> str:\n",
    "        pass\n",
    "class Nada(ABC):\n",
    "    @abstractmethod\n",
    "    def nadar(self) -> str:\n",
    "        pass\n",
    "\n",
    "class Mamifero(Corre, Nada):\n",
    "    def correr(self) -> str:\n",
    "        return \"El mamifero está corriendo\"\n",
    "    def nadar(self) -> str:\n",
    "        return \"El mamifero está nadando\"\n",
    "\n",
    "class Pez(Nada):\n",
    "    def nadar(self) -> str:\n",
    "        return \"El pez está nadando\"\n",
    "\n",
    "class Ave(Vuela):\n",
    "    def volar(self) -> str:\n",
    "        return \"El ave está volando\""
   ]
  },
  {
   "cell_type": "code",
   "execution_count": 14,
   "metadata": {},
   "outputs": [
    {
     "name": "stdout",
     "output_type": "stream",
     "text": [
      "El mamifero está corriendo\n",
      "El mamifero está nadando\n",
      "El pez está nadando\n",
      "El ave está volando\n"
     ]
    }
   ],
   "source": [
    "perro = Mamifero()\n",
    "atun = Pez()\n",
    "alcon = Ave()\n",
    "print(perro.correr())\n",
    "print(perro.nadar())\n",
    "print(atun.nadar())\n",
    "print(alcon.volar())"
   ]
  }
 ],
 "metadata": {
  "kernelspec": {
   "display_name": "Python 3",
   "language": "python",
   "name": "python3"
  },
  "language_info": {
   "codemirror_mode": {
    "name": "ipython",
    "version": 3
   },
   "file_extension": ".py",
   "mimetype": "text/x-python",
   "name": "python",
   "nbconvert_exporter": "python",
   "pygments_lexer": "ipython3",
   "version": "3.12.1"
  }
 },
 "nbformat": 4,
 "nbformat_minor": 2
}
