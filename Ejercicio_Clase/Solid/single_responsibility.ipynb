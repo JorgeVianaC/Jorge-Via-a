{
 "cells": [
  {
   "cell_type": "code",
   "execution_count": 1,
   "metadata": {},
   "outputs": [],
   "source": [
    "class Personaje:\n",
    "    def __init__(self, pa: int = 12, pm: int = 6) -> None:\n",
    "        self.pa: int = pa\n",
    "        self.pm: int = pm\n",
    "\n",
    "    def inform(self) -> str:\n",
    "        return f\"pa {self.pa}, pm {self.pm}\"\n",
    "\n",
    "    def mover(self, moverse: int) -> None:\n",
    "        self.pm -= moverse\n",
    "\n",
    "    def actuar(self, accion: int) -> None:\n",
    "        self.pa -= accion"
   ]
  },
  {
   "cell_type": "code",
   "execution_count": 2,
   "metadata": {},
   "outputs": [
    {
     "name": "stdout",
     "output_type": "stream",
     "text": [
      "pa 7, pm 3\n"
     ]
    }
   ],
   "source": [
    "pj1=Personaje()\n",
    "pj1.actuar(5)\n",
    "pj1.mover(3)\n",
    "print(pj1.inform())"
   ]
  },
  {
   "cell_type": "code",
   "execution_count": 3,
   "metadata": {},
   "outputs": [],
   "source": [
    "class Personaje:\n",
    "    def __init__(self, pa: int = 12, pm: int = 6) -> None:\n",
    "        self.pa: int = pa\n",
    "        self.pm: int = pm\n",
    "\n",
    "    def inform(self) -> str:\n",
    "        return f\"pa {self.pa}, pm {self.pm}\"\n",
    "\n",
    "class Moverpj:\n",
    "    def mover(personaje: Personaje, moverse: int) -> None:\n",
    "        personaje.pm -= moverse\n",
    "\n",
    "class Actuarpj:\n",
    "    def actuar(personaje: Personaje, accion: int) -> None:\n",
    "        personaje.pa -= accion"
   ]
  },
  {
   "cell_type": "code",
   "execution_count": 4,
   "metadata": {},
   "outputs": [
    {
     "name": "stdout",
     "output_type": "stream",
     "text": [
      "pa 4, pm 0\n",
      "pa 3, pm 2\n"
     ]
    }
   ],
   "source": [
    "pj1=Personaje()\n",
    "pj2=Personaje()\n",
    "personaje: list[Personaje] = [pj1, pj2]\n",
    "Moverpj.mover(pj1, 6)\n",
    "Moverpj.mover(pj2, 4)\n",
    "Actuarpj.actuar(pj1, 8)\n",
    "Actuarpj.actuar(pj2, 9)\n",
    "for p in personaje:\n",
    "    print(p.inform())"
   ]
  }
 ],
 "metadata": {
  "kernelspec": {
   "display_name": "Python 3 (ipykernel)",
   "language": "python",
   "name": "python3"
  },
  "language_info": {
   "codemirror_mode": {
    "name": "ipython",
    "version": 3
   },
   "file_extension": ".py",
   "mimetype": "text/x-python",
   "name": "python",
   "nbconvert_exporter": "python",
   "pygments_lexer": "ipython3",
   "version": "3.12.1"
  }
 },
 "nbformat": 4,
 "nbformat_minor": 2
}
