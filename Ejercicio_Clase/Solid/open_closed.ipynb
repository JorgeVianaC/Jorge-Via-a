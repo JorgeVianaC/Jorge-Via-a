{
 "cells": [
  {
   "cell_type": "code",
   "execution_count": 1,
   "metadata": {},
   "outputs": [],
   "source": [
    "class Costos:\n",
    "    def __init__(self, monto: float, tipo: str) -> None:\n",
    "        self.monto: float = monto\n",
    "        self.tipo: str = tipo\n",
    "\n",
    "    def calcularcosto(self) -> str:\n",
    "        if self.tipo == \"descuento\":\n",
    "            return f\"Su descuento es de 20%, le queda en: {self.monto-(self.monto*0.2)}\"\n",
    "        elif self.tipo == \"recargo\":\n",
    "            return f\"Su recargo es de es de 10%, le queda en: {self.monto+(self.monto*0.1)}\"\n",
    "        else:\n",
    "            return 0\n"
   ]
  },
  {
   "cell_type": "code",
   "execution_count": 5,
   "metadata": {},
   "outputs": [
    {
     "data": {
      "text/plain": [
       "'Su descuento es de 20%, le queda en: 4000.0'"
      ]
     },
     "execution_count": 5,
     "metadata": {},
     "output_type": "execute_result"
    }
   ],
   "source": [
    "factura = Costos(monto=5000, tipo=\"descuento\")\n",
    "factura.calcularcosto()"
   ]
  },
  {
   "cell_type": "code",
   "execution_count": 13,
   "metadata": {},
   "outputs": [],
   "source": [
    "from abc import ABC, abstractmethod\n",
    "class Costos(ABC):\n",
    "    @abstractmethod\n",
    "    def calcularcosto(self) -> str:\n",
    "        pass\n",
    "\n",
    "class Descuento(Costos):\n",
    "    def __init__(self, monto: float) -> None:\n",
    "        self.monto: float = monto\n",
    "\n",
    "    def calcularcosto(self) -> str:\n",
    "        return f\"Su descuento es de 20%, le queda en: {self.monto-(self.monto*0.2)}\"\n",
    "\n",
    "class Recargo(Costos):\n",
    "    def __init__(self, monto: float) -> None:\n",
    "        self.monto: float = monto\n",
    "\n",
    "    def calcularcosto(self) -> str:\n",
    "        return f\"Su recargo es de es de 10%, le queda en: {self.monto+(self.monto*0.1)}\"\n",
    "\n"
   ]
  },
  {
   "cell_type": "code",
   "execution_count": 21,
   "metadata": {},
   "outputs": [
    {
     "name": "stdout",
     "output_type": "stream",
     "text": [
      "Su descuento es de 20%, le queda en: 4000.0\n",
      "Su recargo es de es de 10%, le queda en: 5500.0\n"
     ]
    }
   ],
   "source": [
    "f1 = Descuento(monto = 5000)\n",
    "print(f1.calcularcosto())\n",
    "f2 = Recargo(monto = 5000)\n",
    "print(f2.calcularcosto())"
   ]
  }
 ],
 "metadata": {
  "kernelspec": {
   "display_name": "Python 3 (ipykernel)",
   "language": "python",
   "name": "python3"
  },
  "language_info": {
   "codemirror_mode": {
    "name": "ipython",
    "version": 3
   },
   "file_extension": ".py",
   "mimetype": "text/x-python",
   "name": "python",
   "nbconvert_exporter": "python",
   "pygments_lexer": "ipython3",
   "version": "3.12.1"
  }
 },
 "nbformat": 4,
 "nbformat_minor": 2
}
